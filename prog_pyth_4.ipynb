{
 "cells": [
  {
   "cell_type": "markdown",
   "id": "5391a859",
   "metadata": {},
   "source": [
    "# 1."
   ]
  },
  {
   "cell_type": "code",
   "execution_count": 2,
   "id": "5573eaff",
   "metadata": {},
   "outputs": [
    {
     "name": "stdout",
     "output_type": "stream",
     "text": [
      "Enter a number to find its factorial: 5\n",
      "The factorial of 5 is 120.\n"
     ]
    }
   ],
   "source": [
    "# Function to calculate factorial\n",
    "def factorial(n):\n",
    "    if n == 0:\n",
    "        return 1\n",
    "    else:\n",
    "        return n * factorial(n - 1)\n",
    "\n",
    "# Input from the user\n",
    "num = int(input(\"Enter a number to find its factorial: \"))\n",
    "\n",
    "fact = factorial(num)\n",
    "print(f\"The factorial of {num} is {fact}.\")"
   ]
  },
  {
   "cell_type": "markdown",
   "id": "9f2c2d26",
   "metadata": {},
   "source": [
    "# 2."
   ]
  },
  {
   "cell_type": "code",
   "execution_count": 3,
   "id": "a2e84873",
   "metadata": {},
   "outputs": [
    {
     "name": "stdout",
     "output_type": "stream",
     "text": [
      "Enter a number to display its multiplication table: 2\n",
      "Multiplication Table of 2:\n",
      "2 x 1 = 2\n",
      "2 x 2 = 4\n",
      "2 x 3 = 6\n",
      "2 x 4 = 8\n",
      "2 x 5 = 10\n",
      "2 x 6 = 12\n",
      "2 x 7 = 14\n",
      "2 x 8 = 16\n",
      "2 x 9 = 18\n",
      "2 x 10 = 20\n"
     ]
    }
   ],
   "source": [
    "# Function to display multiplication table\n",
    "def multiplication_table(num):\n",
    "    print(f\"Multiplication Table of {num}:\")\n",
    "    for i in range(1, 11):  # Multiplying num from 1 to 10\n",
    "        product = num * i\n",
    "        print(f\"{num} x {i} = {product}\")\n",
    "\n",
    "# Input from the user\n",
    "num_input = int(input(\"Enter a number to display its multiplication table: \"))\n",
    "\n",
    "# Display multiplication table\n",
    "multiplication_table(num_input)"
   ]
  },
  {
   "cell_type": "markdown",
   "id": "e3971669",
   "metadata": {},
   "source": [
    "# 3."
   ]
  },
  {
   "cell_type": "code",
   "execution_count": 5,
   "id": "0d43e9c2",
   "metadata": {},
   "outputs": [
    {
     "name": "stdout",
     "output_type": "stream",
     "text": [
      "Enter the number of terms in the Fibonacci sequence: 10\n",
      "Fibonacci Sequence:\n",
      "[0, 1, 1, 2, 3, 5, 8, 13, 21, 34]\n"
     ]
    }
   ],
   "source": [
    "def fibonacci_sequence(n):\n",
    "    # Initialize the first two Fibonacci numbers\n",
    "    fib_sequence = [0, 1]\n",
    "\n",
    "    # Generate Fibonacci sequence up to n terms\n",
    "    while len(fib_sequence) < n:\n",
    "        next_fib = fib_sequence[-1] + fib_sequence[-2]\n",
    "        fib_sequence.append(next_fib)\n",
    "\n",
    "    return fib_sequence\n",
    "\n",
    "# Input from the user for the number of terms in Fibonacci sequence\n",
    "num_terms = int(input(\"Enter the number of terms in the Fibonacci sequence: \"))\n",
    "\n",
    "# Display Fibonacci sequence up to the specified number of terms\n",
    "fibonacci_seq = fibonacci_sequence(num_terms)\n",
    "print(\"Fibonacci Sequence:\")\n",
    "print(fibonacci_seq)"
   ]
  },
  {
   "cell_type": "markdown",
   "id": "4b170232",
   "metadata": {},
   "source": [
    "# 4."
   ]
  },
  {
   "cell_type": "code",
   "execution_count": 7,
   "id": "69474d17",
   "metadata": {},
   "outputs": [
    {
     "name": "stdout",
     "output_type": "stream",
     "text": [
      "Enter a number to check if it's an Armstrong number: 404\n",
      "404 is not an Armstrong number.\n"
     ]
    }
   ],
   "source": [
    "def is_armstrong_number(num):\n",
    "    # Calculate the number of digits in the given number\n",
    "    num_digits = len(str(num))\n",
    "\n",
    "    # Initialize sum of powered digits\n",
    "    sum_of_digits = 0\n",
    "    temp_num = num\n",
    "\n",
    "    # Calculate the sum of digits raised to the power of the number of digits\n",
    "    while temp_num > 0:\n",
    "        digit = temp_num % 10\n",
    "        sum_of_digits += digit ** num_digits\n",
    "        temp_num //= 10\n",
    "\n",
    "    # Check if the number is Armstrong or not\n",
    "    return num == sum_of_digits\n",
    "\n",
    "# Input from the user for the number to check\n",
    "number_to_check = int(input(\"Enter a number to check if it's an Armstrong number: \"))\n",
    "\n",
    "# Check if the number is an Armstrong number\n",
    "if is_armstrong_number(number_to_check):\n",
    "    print(f\"{number_to_check} is an Armstrong number.\")\n",
    "else:\n",
    "    print(f\"{number_to_check} is not an Armstrong number.\")\n"
   ]
  },
  {
   "cell_type": "markdown",
   "id": "6bf49955",
   "metadata": {},
   "source": [
    "# 5."
   ]
  },
  {
   "cell_type": "code",
   "execution_count": 8,
   "id": "ac26fab0",
   "metadata": {},
   "outputs": [
    {
     "name": "stdout",
     "output_type": "stream",
     "text": [
      "Enter the starting number of the interval: 100\n",
      "Enter the ending number of the interval: 200\n",
      "Armstrong numbers in the interval [100, 200]:\n",
      "153\n"
     ]
    }
   ],
   "source": [
    "def is_armstrong_number(num):\n",
    "    # Calculate the number of digits in the given number\n",
    "    num_digits = len(str(num))\n",
    "\n",
    "    # Initialize sum of powered digits\n",
    "    sum_of_digits = 0\n",
    "    temp_num = num\n",
    "\n",
    "    # Calculate the sum of digits raised to the power of the number of digits\n",
    "    while temp_num > 0:\n",
    "        digit = temp_num % 10\n",
    "        sum_of_digits += digit ** num_digits\n",
    "        temp_num //= 10\n",
    "\n",
    "    # Check if the number is Armstrong or not\n",
    "    return num == sum_of_digits\n",
    "\n",
    "# Input from the user for the interval range\n",
    "start = int(input(\"Enter the starting number of the interval: \"))\n",
    "end = int(input(\"Enter the ending number of the interval: \"))\n",
    "\n",
    "print(f\"Armstrong numbers in the interval [{start}, {end}]:\")\n",
    "for number in range(start, end + 1):\n",
    "    if is_armstrong_number(number):\n",
    "        print(number)\n",
    "    "
   ]
  },
  {
   "cell_type": "markdown",
   "id": "6dfd1692",
   "metadata": {},
   "source": [
    "# 6."
   ]
  },
  {
   "cell_type": "code",
   "execution_count": 9,
   "id": "341a8c85",
   "metadata": {},
   "outputs": [
    {
     "name": "stdout",
     "output_type": "stream",
     "text": [
      "Enter the limit: 10\n",
      "The sum of natural numbers up to 10 is: 55\n"
     ]
    }
   ],
   "source": [
    "def sum_of_natural_numbers(limit):\n",
    "    # Initialize sum\n",
    "    total_sum = 0\n",
    "\n",
    "    # Calculate the sum of natural numbers up to the limit\n",
    "    for num in range(1, limit + 1):\n",
    "        total_sum += num\n",
    "\n",
    "    return total_sum\n",
    "\n",
    "# Input from the user for the limit\n",
    "limit = int(input(\"Enter the limit: \"))\n",
    "\n",
    "# Calculate and print the sum of natural numbers up to the limit\n",
    "result = sum_of_natural_numbers(limit)\n",
    "print(f\"The sum of natural numbers up to {limit} is: {result}\")"
   ]
  },
  {
   "cell_type": "code",
   "execution_count": null,
   "id": "6cd42cc6",
   "metadata": {},
   "outputs": [],
   "source": []
  }
 ],
 "metadata": {
  "kernelspec": {
   "display_name": "Python 3 (ipykernel)",
   "language": "python",
   "name": "python3"
  },
  "language_info": {
   "codemirror_mode": {
    "name": "ipython",
    "version": 3
   },
   "file_extension": ".py",
   "mimetype": "text/x-python",
   "name": "python",
   "nbconvert_exporter": "python",
   "pygments_lexer": "ipython3",
   "version": "3.11.5"
  }
 },
 "nbformat": 4,
 "nbformat_minor": 5
}
